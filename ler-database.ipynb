{
 "cells": [
  {
   "cell_type": "code",
   "execution_count": 1,
   "metadata": {},
   "outputs": [],
   "source": [
    "from database.database import db, Jogo\n",
    "\n",
    "db.connect()\n",
    "db.create_tables([Jogo])"
   ]
  },
  {
   "cell_type": "code",
   "execution_count": 2,
   "metadata": {},
   "outputs": [],
   "source": [
    "def exibir(tabela:Jogo):\n",
    "    for j in tabela:\n",
    "        print('- Id', j.id, sep=': ', end=' | ')\n",
    "        print('Agente', j.tipo_agente, sep=': ', end=' | ')\n",
    "        print('Mapa', j.tamanho_mapa, sep=': ', end=' | ')\n",
    "        print('Status', j.status_partida, sep=': ', end=' | ')\n",
    "        print('Pts', j.pts, sep=': ', end=' | ')\n",
    "        print('Total de Passos', j.n_passos, sep=': ', end=' | ')\n",
    "        print()"
   ]
  },
  {
   "cell_type": "code",
   "execution_count": 10,
   "metadata": {},
   "outputs": [
    {
     "name": "stdout",
     "output_type": "stream",
     "text": [
      "- Id: 55 | Agente: 2 | Mapa: 4 | Status: v | Pts: 998 | Total de Passos: 2 | \n",
      "- Id: 56 | Agente: 2 | Mapa: 4 | Status: v | Pts: 994 | Total de Passos: 6 | \n"
     ]
    }
   ],
   "source": [
    "filtrado = Jogo.select().where(Jogo.tipo_agente == 2, Jogo.status_partida == 'v')\n",
    "exibir(filtrado)    \n"
   ]
  },
  {
   "cell_type": "code",
   "execution_count": 23,
   "metadata": {},
   "outputs": [
    {
     "name": "stdout",
     "output_type": "stream",
     "text": [
      "Total de Jogos: 56\n",
      "\n",
      "\n",
      "\n"
     ]
    }
   ],
   "source": [
    "jogos_db = Jogo.select()\n",
    "\n",
    "print(f'Total de Jogos: {len(jogos_db)}\\n\\n\\n')\n",
    "# exibir(jogos_db)"
   ]
  }
 ],
 "metadata": {
  "kernelspec": {
   "display_name": ".venv",
   "language": "python",
   "name": "python3"
  },
  "language_info": {
   "codemirror_mode": {
    "name": "ipython",
    "version": 3
   },
   "file_extension": ".py",
   "mimetype": "text/x-python",
   "name": "python",
   "nbconvert_exporter": "python",
   "pygments_lexer": "ipython3",
   "version": "3.10.12"
  }
 },
 "nbformat": 4,
 "nbformat_minor": 2
}
