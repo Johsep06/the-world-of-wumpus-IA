{
 "cells": [
  {
   "cell_type": "code",
   "execution_count": 1,
   "metadata": {},
   "outputs": [
    {
     "data": {
      "text/plain": [
       "True"
      ]
     },
     "execution_count": 1,
     "metadata": {},
     "output_type": "execute_result"
    }
   ],
   "source": [
    "from database.database import db, Jogo\n",
    "\n",
    "db.connect()\n"
   ]
  },
  {
   "cell_type": "code",
   "execution_count": 3,
   "metadata": {},
   "outputs": [],
   "source": [
    "def exibir(tabela:Jogo):\n",
    "    for j in tabela:\n",
    "        print('- Id', j.id, sep=': ', end=' | ')\n",
    "        print('Agente', j.tipo_agente, sep=': ', end=' | ')\n",
    "        print('Mapa', j.tamanho_mapa, sep=': ', end=' | ')\n",
    "        print('Status', j.status_partida, sep=': ', end=' | ')\n",
    "        print('Pts', j.pts, sep=': ', end=' | ')\n",
    "        print('Total de Passos', j.n_passos, sep=': ', end=' | ')\n",
    "        print()"
   ]
  },
  {
   "cell_type": "code",
   "execution_count": 13,
   "metadata": {},
   "outputs": [
    {
     "name": "stdout",
     "output_type": "stream",
     "text": [
      "- Id: 2 | Agente: 1 | Mapa: 4 | Status: w | Pts: -1026 | Total de Passos: 16 | \n",
      "- Id: 6 | Agente: 1 | Mapa: 4 | Status: w | Pts: -1016 | Total de Passos: 6 | \n",
      "- Id: 15 | Agente: 1 | Mapa: 5 | Status: w | Pts: -1011 | Total de Passos: 1 | \n"
     ]
    }
   ],
   "source": [
    "teste = Jogo.select().where(Jogo.status_partida == 'w')\n",
    "exibir(teste)\n"
   ]
  },
  {
   "cell_type": "code",
   "execution_count": 6,
   "metadata": {},
   "outputs": [
    {
     "name": "stdout",
     "output_type": "stream",
     "text": [
      "- Id: 1 | Agente: 1 | Mapa: 4 | Status: p | Pts: -1003 | Total de Passos: 3 | \n",
      "- Id: 2 | Agente: 1 | Mapa: 4 | Status: w | Pts: -1026 | Total de Passos: 16 | \n",
      "- Id: 3 | Agente: 1 | Mapa: 4 | Status: p | Pts: -15 | Total de Passos: 5 | \n",
      "- Id: 4 | Agente: 1 | Mapa: 4 | Status: p | Pts: -11 | Total de Passos: 1 | \n",
      "- Id: 5 | Agente: 1 | Mapa: 4 | Status: p | Pts: -1006 | Total de Passos: 6 | \n",
      "- Id: 6 | Agente: 1 | Mapa: 4 | Status: w | Pts: -1016 | Total de Passos: 6 | \n",
      "- Id: 7 | Agente: 1 | Mapa: 4 | Status: p | Pts: -1011 | Total de Passos: 1 | \n",
      "- Id: 8 | Agente: 1 | Mapa: 4 | Status: p | Pts: -1003 | Total de Passos: 3 | \n",
      "- Id: 9 | Agente: 1 | Mapa: 4 | Status: p | Pts: -1012 | Total de Passos: 2 | \n",
      "- Id: 10 | Agente: 1 | Mapa: 4 | Status: p | Pts: -17 | Total de Passos: 7 | \n",
      "- Id: 11 | Agente: 1 | Mapa: 5 | Status: p | Pts: -1001 | Total de Passos: 1 | \n",
      "- Id: 12 | Agente: 1 | Mapa: 5 | Status: p | Pts: -1019 | Total de Passos: 9 | \n",
      "- Id: 13 | Agente: 1 | Mapa: 5 | Status: p | Pts: -1003 | Total de Passos: 3 | \n",
      "- Id: 14 | Agente: 1 | Mapa: 5 | Status: p | Pts: -12 | Total de Passos: 2 | \n",
      "- Id: 15 | Agente: 1 | Mapa: 5 | Status: w | Pts: -1011 | Total de Passos: 1 | \n",
      "- Id: 16 | Agente: 1 | Mapa: 5 | Status: p | Pts: -1001 | Total de Passos: 1 | \n",
      "- Id: 17 | Agente: 1 | Mapa: 5 | Status: p | Pts: -1004 | Total de Passos: 4 | \n",
      "- Id: 18 | Agente: 1 | Mapa: 5 | Status: p | Pts: -1005 | Total de Passos: 5 | \n",
      "- Id: 19 | Agente: 1 | Mapa: 5 | Status: p | Pts: -1008 | Total de Passos: 8 | \n",
      "- Id: 20 | Agente: 1 | Mapa: 5 | Status: p | Pts: -1003 | Total de Passos: 3 | \n"
     ]
    }
   ],
   "source": [
    "jogos_db = Jogo.select()\n",
    "\n",
    "exibir(jogos_db)"
   ]
  }
 ],
 "metadata": {
  "kernelspec": {
   "display_name": ".venv",
   "language": "python",
   "name": "python3"
  },
  "language_info": {
   "codemirror_mode": {
    "name": "ipython",
    "version": 3
   },
   "file_extension": ".py",
   "mimetype": "text/x-python",
   "name": "python",
   "nbconvert_exporter": "python",
   "pygments_lexer": "ipython3",
   "version": "3.10.12"
  }
 },
 "nbformat": 4,
 "nbformat_minor": 2
}
