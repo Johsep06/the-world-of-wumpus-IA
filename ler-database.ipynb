{
 "cells": [
  {
   "cell_type": "code",
   "execution_count": 17,
   "metadata": {},
   "outputs": [
    {
     "ename": "OperationalError",
     "evalue": "Connection already opened.",
     "output_type": "error",
     "traceback": [
      "\u001b[0;31m---------------------------------------------------------------------------\u001b[0m",
      "\u001b[0;31mOperationalError\u001b[0m                          Traceback (most recent call last)",
      "Cell \u001b[0;32mIn[17], line 3\u001b[0m\n\u001b[1;32m      1\u001b[0m \u001b[38;5;28;01mfrom\u001b[39;00m \u001b[38;5;21;01mdatabase\u001b[39;00m\u001b[38;5;21;01m.\u001b[39;00m\u001b[38;5;21;01mdatabase\u001b[39;00m \u001b[38;5;28;01mimport\u001b[39;00m db, Jogo\n\u001b[0;32m----> 3\u001b[0m \u001b[43mdb\u001b[49m\u001b[38;5;241;43m.\u001b[39;49m\u001b[43mconnect\u001b[49m\u001b[43m(\u001b[49m\u001b[43m)\u001b[49m\n\u001b[1;32m      4\u001b[0m db\u001b[38;5;241m.\u001b[39mcreate_tables([Jogo])\n",
      "File \u001b[0;32m~/Workspace/the-world-of-wumpus-IA/.venv/lib/python3.10/site-packages/peewee.py:3259\u001b[0m, in \u001b[0;36mDatabase.connect\u001b[0;34m(self, reuse_if_open)\u001b[0m\n\u001b[1;32m   3257\u001b[0m     \u001b[38;5;28;01mif\u001b[39;00m reuse_if_open:\n\u001b[1;32m   3258\u001b[0m         \u001b[38;5;28;01mreturn\u001b[39;00m \u001b[38;5;28;01mFalse\u001b[39;00m\n\u001b[0;32m-> 3259\u001b[0m     \u001b[38;5;28;01mraise\u001b[39;00m OperationalError(\u001b[38;5;124m'\u001b[39m\u001b[38;5;124mConnection already opened.\u001b[39m\u001b[38;5;124m'\u001b[39m)\n\u001b[1;32m   3261\u001b[0m \u001b[38;5;28mself\u001b[39m\u001b[38;5;241m.\u001b[39m_state\u001b[38;5;241m.\u001b[39mreset()\n\u001b[1;32m   3262\u001b[0m \u001b[38;5;28;01mwith\u001b[39;00m __exception_wrapper__:\n",
      "\u001b[0;31mOperationalError\u001b[0m: Connection already opened."
     ]
    }
   ],
   "source": [
    "from database.database import db, Jogo\n",
    "\n",
    "db.connect()\n",
    "db.create_tables([Jogo])"
   ]
  },
  {
   "cell_type": "code",
   "execution_count": 2,
   "metadata": {},
   "outputs": [],
   "source": [
    "def exibir(tabela:Jogo):\n",
    "    for j in tabela:\n",
    "        print('- Id', j.id, sep=': ', end=' | ')\n",
    "        print('Agente', j.tipo_agente, sep=': ', end=' | ')\n",
    "        print('Mapa', j.tamanho_mapa, sep=': ', end=' | ')\n",
    "        print('Status', j.status_partida, sep=': ', end=' | ')\n",
    "        print('Pts', j.pts, sep=': ', end=' | ')\n",
    "        print('Total de Passos', j.n_passos, sep=': ', end=' | ')\n",
    "        print()"
   ]
  },
  {
   "cell_type": "code",
   "execution_count": 19,
   "metadata": {},
   "outputs": [
    {
     "name": "stdout",
     "output_type": "stream",
     "text": [
      "- Id: 54 | Agente: 2 | Mapa: 4 | Status: p | Pts: -1001 | Total de Passos: 1 | \n",
      "- Id: 55 | Agente: 2 | Mapa: 4 | Status: v | Pts: 998 | Total de Passos: 2 | \n"
     ]
    }
   ],
   "source": [
    "teste = Jogo.select().where(Jogo.tipo_agente == 2)\n",
    "exibir(teste)\n"
   ]
  },
  {
   "cell_type": "code",
   "execution_count": 3,
   "metadata": {},
   "outputs": [
    {
     "name": "stdout",
     "output_type": "stream",
     "text": [
      "Total de Jogos: 53\n",
      "\n",
      "\n",
      "\n"
     ]
    }
   ],
   "source": [
    "jogos_db = Jogo.select()\n",
    "\n",
    "print(f'Total de Jogos: {len(jogos_db)}\\n\\n\\n')\n",
    "# exibir(jogos_db)"
   ]
  }
 ],
 "metadata": {
  "kernelspec": {
   "display_name": ".venv",
   "language": "python",
   "name": "python3"
  },
  "language_info": {
   "codemirror_mode": {
    "name": "ipython",
    "version": 3
   },
   "file_extension": ".py",
   "mimetype": "text/x-python",
   "name": "python",
   "nbconvert_exporter": "python",
   "pygments_lexer": "ipython3",
   "version": "3.10.12"
  }
 },
 "nbformat": 4,
 "nbformat_minor": 2
}
