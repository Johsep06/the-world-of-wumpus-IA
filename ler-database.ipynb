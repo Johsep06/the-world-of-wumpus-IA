{
 "cells": [
  {
   "cell_type": "code",
   "execution_count": 2,
   "metadata": {},
   "outputs": [],
   "source": [
    "from database.database import db, Jogo\n",
    "\n",
    "db.connect()\n",
    "db.create_tables([Jogo])"
   ]
  },
  {
   "cell_type": "code",
   "execution_count": 3,
   "metadata": {},
   "outputs": [],
   "source": [
    "def exibir(tabela:Jogo):\n",
    "    for j in tabela:\n",
    "        print('- Id', j.id, sep=': ', end=' | ')\n",
    "        print('Agente', j.tipo_agente, sep=': ', end=' | ')\n",
    "        print('Mapa', j.tamanho_mapa, sep=': ', end=' | ')\n",
    "        print('Status', j.status_partida, sep=': ', end=' | ')\n",
    "        print('Pts', j.pts, sep=': ', end=' | ')\n",
    "        print('Total de Passos', j.n_passos, sep=': ', end=' | ')\n",
    "        print()"
   ]
  },
  {
   "cell_type": "code",
   "execution_count": 17,
   "metadata": {},
   "outputs": [
    {
     "name": "stdout",
     "output_type": "stream",
     "text": [
      "qtd de dados agente 1 no mapa 4: 49\n",
      "qtd de dados agente 1 no mapa 5: 11\n",
      "qtd de dados agente 1 no mapa 10: 3\n",
      "qtd de dados agente 1 no mapa 15: 5\n",
      "qtd de dados agente 1 no mapa 20: 8\n",
      "\n",
      "qtd de dados agente 2 no mapa 4: 18\n",
      "qtd de dados agente 2 no mapa 5: 3\n",
      "qtd de dados agente 2 no mapa 10: 1\n",
      "qtd de dados agente 2 no mapa 15: 0\n",
      "qtd de dados agente 2 no mapa 20: 2\n",
      "\n"
     ]
    }
   ],
   "source": [
    "agente = {1:[], 2:[]}\n",
    "\n",
    "agente[1].append(len(Jogo.select().where(Jogo.tipo_agente == 1, Jogo.tamanho_mapa == 4)))  \n",
    "agente[1].append(len(Jogo.select().where(Jogo.tipo_agente == 1, Jogo.tamanho_mapa == 5)))  \n",
    "agente[1].append(len(Jogo.select().where(Jogo.tipo_agente == 1, Jogo.tamanho_mapa == 10)))   \n",
    "agente[1].append(len(Jogo.select().where(Jogo.tipo_agente == 1, Jogo.tamanho_mapa == 15)))   \n",
    "agente[1].append(len(Jogo.select().where(Jogo.tipo_agente == 1, Jogo.tamanho_mapa == 20)))   \n",
    "\n",
    "agente[2].append(len(Jogo.select().where(Jogo.tipo_agente == 2, Jogo.tamanho_mapa == 4)))  \n",
    "agente[2].append(len(Jogo.select().where(Jogo.tipo_agente == 2, Jogo.tamanho_mapa == 5)))  \n",
    "agente[2].append(len(Jogo.select().where(Jogo.tipo_agente == 2, Jogo.tamanho_mapa == 10)))   \n",
    "agente[2].append(len(Jogo.select().where(Jogo.tipo_agente == 2, Jogo.tamanho_mapa == 15)))   \n",
    "agente[2].append(len(Jogo.select().where(Jogo.tipo_agente == 2, Jogo.tamanho_mapa == 20)))   \n",
    "\n",
    "mapas = [4, 5, 10, 15, 20]\n",
    "for i in range(2):\n",
    "    for j in range(5):\n",
    "        dados = agente[(i + 1)]\n",
    "        print(f'qtd de dados agente {i + 1} no mapa {mapas[j]}: {dados[j]}')\n",
    "    print()"
   ]
  },
  {
   "cell_type": "code",
   "execution_count": 9,
   "metadata": {},
   "outputs": [
    {
     "name": "stdout",
     "output_type": "stream",
     "text": [
      "Total de Jogos: 18\n",
      "\n",
      "\n",
      "\n"
     ]
    },
    {
     "ename": "AttributeError",
     "evalue": "'ModelSelect' object has no attribute 'pts'",
     "output_type": "error",
     "traceback": [
      "\u001b[0;31m---------------------------------------------------------------------------\u001b[0m",
      "\u001b[0;31mAttributeError\u001b[0m                            Traceback (most recent call last)",
      "Cell \u001b[0;32mIn[9], line 5\u001b[0m\n\u001b[1;32m      3\u001b[0m \u001b[38;5;28mprint\u001b[39m(\u001b[38;5;124mf\u001b[39m\u001b[38;5;124m'\u001b[39m\u001b[38;5;124mTotal de Jogos: \u001b[39m\u001b[38;5;132;01m{\u001b[39;00m\u001b[38;5;28mlen\u001b[39m(jogos_db)\u001b[38;5;132;01m}\u001b[39;00m\u001b[38;5;130;01m\\n\u001b[39;00m\u001b[38;5;130;01m\\n\u001b[39;00m\u001b[38;5;130;01m\\n\u001b[39;00m\u001b[38;5;124m'\u001b[39m)\n\u001b[1;32m      4\u001b[0m \u001b[38;5;66;03m# exibir(jogos_db)\u001b[39;00m\n\u001b[0;32m----> 5\u001b[0m \u001b[38;5;28mprint\u001b[39m(\u001b[43mjogos_db\u001b[49m\u001b[38;5;241;43m.\u001b[39;49m\u001b[43mpts\u001b[49m)\n",
      "\u001b[0;31mAttributeError\u001b[0m: 'ModelSelect' object has no attribute 'pts'"
     ]
    }
   ],
   "source": [
    "jogos_db = Jogo.select().where(Jogo.tipo_agente == 2, Jogo.tamanho_mapa == 4)\n",
    "\n",
    "print(f'Total de Jogos: {len(jogos_db)}\\n\\n\\n')\n",
    "# exibir(jogos_db)"
   ]
  }
 ],
 "metadata": {
  "kernelspec": {
   "display_name": ".venv",
   "language": "python",
   "name": "python3"
  },
  "language_info": {
   "codemirror_mode": {
    "name": "ipython",
    "version": 3
   },
   "file_extension": ".py",
   "mimetype": "text/x-python",
   "name": "python",
   "nbconvert_exporter": "python",
   "pygments_lexer": "ipython3",
   "version": "3.10.12"
  }
 },
 "nbformat": 4,
 "nbformat_minor": 2
}
