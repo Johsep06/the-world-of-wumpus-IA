{
 "cells": [
  {
   "cell_type": "code",
   "execution_count": 1,
   "metadata": {},
   "outputs": [
    {
     "data": {
      "text/plain": [
       "True"
      ]
     },
     "execution_count": 1,
     "metadata": {},
     "output_type": "execute_result"
    }
   ],
   "source": [
    "from database.database import db, Jogo\n",
    "\n",
    "db.connect()\n"
   ]
  },
  {
   "cell_type": "code",
   "execution_count": 6,
   "metadata": {},
   "outputs": [
    {
     "name": "stdout",
     "output_type": "stream",
     "text": [
      "- Id: 1 | Agente: 1 | Mapa: 5 | Status: p | Pts: -1033 | Total de Passos: 33 | \n",
      "- Id: 2 | Agente: 1 | Mapa: 5 | Status: p | Pts: -1031 | Total de Passos: 21 | \n",
      "- Id: 3 | Agente: 1 | Mapa: 5 | Status: p | Pts: -1001 | Total de Passos: 1 | \n",
      "- Id: 4 | Agente: 1 | Mapa: 5 | Status: p | Pts: -125 | Total de Passos: 115 | \n",
      "- Id: 5 | Agente: 1 | Mapa: 5 | Status: p | Pts: -1008 | Total de Passos: 8 | \n",
      "- Id: 6 | Agente: 1 | Mapa: 5 | Status: p | Pts: -1005 | Total de Passos: 5 | \n",
      "- Id: 7 | Agente: 1 | Mapa: 5 | Status: p | Pts: -1006 | Total de Passos: 6 | \n",
      "- Id: 8 | Agente: 1 | Mapa: 5 | Status: p | Pts: -1003 | Total de Passos: 3 | \n",
      "- Id: 9 | Agente: 1 | Mapa: 5 | Status: p | Pts: -1002 | Total de Passos: 2 | \n",
      "- Id: 10 | Agente: 1 | Mapa: 5 | Status: p | Pts: -1003 | Total de Passos: 3 | \n",
      "- Id: 11 | Agente: 1 | Mapa: 5 | Status: p | Pts: -1001 | Total de Passos: 1 | \n",
      "- Id: 12 | Agente: 1 | Mapa: 5 | Status: p | Pts: -1024 | Total de Passos: 24 | \n",
      "- Id: 13 | Agente: 1 | Mapa: 5 | Status: p | Pts: -21 | Total de Passos: 11 | \n",
      "- Id: 14 | Agente: 1 | Mapa: 5 | Status: p | Pts: -1001 | Total de Passos: 1 | \n",
      "- Id: 15 | Agente: 1 | Mapa: 5 | Status: p | Pts: -1007 | Total de Passos: 7 | \n",
      "- Id: 16 | Agente: 1 | Mapa: 5 | Status: p | Pts: -1006 | Total de Passos: 6 | \n",
      "- Id: 17 | Agente: 1 | Mapa: 5 | Status: p | Pts: -1049 | Total de Passos: 39 | \n",
      "- Id: 18 | Agente: 1 | Mapa: 5 | Status: w | Pts: -1024 | Total de Passos: 14 | \n",
      "- Id: 19 | Agente: 1 | Mapa: 5 | Status: w | Pts: -1013 | Total de Passos: 3 | \n",
      "- Id: 20 | Agente: 1 | Mapa: 5 | Status: p | Pts: -1016 | Total de Passos: 16 | \n",
      "- Id: 21 | Agente: 1 | Mapa: 20 | Status: p | Pts: -1002 | Total de Passos: 2 | \n",
      "- Id: 22 | Agente: 1 | Mapa: 20 | Status: p | Pts: -1071 | Total de Passos: 71 | \n"
     ]
    }
   ],
   "source": [
    "jogos_db = Jogo.select()\n",
    "\n",
    "for j in jogos_db:\n",
    "    print('- Id', j.id, sep=': ', end=' | ')\n",
    "    print('Agente', j.tipo_agente, sep=': ', end=' | ')\n",
    "    print('Mapa', j.tamanho_mapa, sep=': ', end=' | ')\n",
    "    print('Status', j.status_partida, sep=': ', end=' | ')\n",
    "    print('Pts', j.pts, sep=': ', end=' | ')\n",
    "    print('Total de Passos', j.n_passos, sep=': ', end=' | ')\n",
    "    print()"
   ]
  }
 ],
 "metadata": {
  "kernelspec": {
   "display_name": ".venv",
   "language": "python",
   "name": "python3"
  },
  "language_info": {
   "codemirror_mode": {
    "name": "ipython",
    "version": 3
   },
   "file_extension": ".py",
   "mimetype": "text/x-python",
   "name": "python",
   "nbconvert_exporter": "python",
   "pygments_lexer": "ipython3",
   "version": "3.10.12"
  }
 },
 "nbformat": 4,
 "nbformat_minor": 2
}
