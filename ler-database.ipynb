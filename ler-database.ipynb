{
 "cells": [
  {
   "cell_type": "code",
   "execution_count": 1,
   "metadata": {},
   "outputs": [
    {
     "data": {
      "text/plain": [
       "True"
      ]
     },
     "execution_count": 1,
     "metadata": {},
     "output_type": "execute_result"
    }
   ],
   "source": [
    "from database.database import db, Jogo\n",
    "\n",
    "db.connect()\n"
   ]
  },
  {
   "cell_type": "code",
   "execution_count": 2,
   "metadata": {},
   "outputs": [],
   "source": [
    "def exibir(tabela:Jogo):\n",
    "    for j in tabela:\n",
    "        print('- Id', j.id, sep=': ', end=' | ')\n",
    "        print('Agente', j.tipo_agente, sep=': ', end=' | ')\n",
    "        print('Mapa', j.tamanho_mapa, sep=': ', end=' | ')\n",
    "        print('Status', j.status_partida, sep=': ', end=' | ')\n",
    "        print('Pts', j.pts, sep=': ', end=' | ')\n",
    "        print('Total de Passos', j.n_passos, sep=': ', end=' | ')\n",
    "        print()"
   ]
  },
  {
   "cell_type": "code",
   "execution_count": 10,
   "metadata": {},
   "outputs": [
    {
     "name": "stdout",
     "output_type": "stream",
     "text": [
      "- Id: 25 | Agente: 1 | Mapa: 7 | Status: v | Pts: 990 | Total de Passos: 10 | \n",
      "- Id: 28 | Agente: 1 | Mapa: 4 | Status: v | Pts: 998 | Total de Passos: 2 | \n"
     ]
    }
   ],
   "source": [
    "teste = Jogo.select().where(Jogo.status_partida == 'v')\n",
    "exibir(teste)\n"
   ]
  },
  {
   "cell_type": "code",
   "execution_count": 9,
   "metadata": {},
   "outputs": [
    {
     "name": "stdout",
     "output_type": "stream",
     "text": [
      "Total de Jogos: 35\n",
      "\n",
      "\n",
      "\n",
      "- Id: 1 | Agente: 1 | Mapa: 4 | Status: p | Pts: -1003 | Total de Passos: 3 | \n",
      "- Id: 2 | Agente: 1 | Mapa: 4 | Status: w | Pts: -1026 | Total de Passos: 16 | \n",
      "- Id: 3 | Agente: 1 | Mapa: 4 | Status: p | Pts: -15 | Total de Passos: 5 | \n",
      "- Id: 4 | Agente: 1 | Mapa: 4 | Status: p | Pts: -11 | Total de Passos: 1 | \n",
      "- Id: 5 | Agente: 1 | Mapa: 4 | Status: p | Pts: -1006 | Total de Passos: 6 | \n",
      "- Id: 6 | Agente: 1 | Mapa: 4 | Status: w | Pts: -1016 | Total de Passos: 6 | \n",
      "- Id: 7 | Agente: 1 | Mapa: 4 | Status: p | Pts: -1011 | Total de Passos: 1 | \n",
      "- Id: 8 | Agente: 1 | Mapa: 4 | Status: p | Pts: -1003 | Total de Passos: 3 | \n",
      "- Id: 9 | Agente: 1 | Mapa: 4 | Status: p | Pts: -1012 | Total de Passos: 2 | \n",
      "- Id: 10 | Agente: 1 | Mapa: 4 | Status: p | Pts: -17 | Total de Passos: 7 | \n",
      "- Id: 11 | Agente: 1 | Mapa: 5 | Status: p | Pts: -1001 | Total de Passos: 1 | \n",
      "- Id: 12 | Agente: 1 | Mapa: 5 | Status: p | Pts: -1019 | Total de Passos: 9 | \n",
      "- Id: 13 | Agente: 1 | Mapa: 5 | Status: p | Pts: -1003 | Total de Passos: 3 | \n",
      "- Id: 14 | Agente: 1 | Mapa: 5 | Status: p | Pts: -12 | Total de Passos: 2 | \n",
      "- Id: 15 | Agente: 1 | Mapa: 5 | Status: w | Pts: -1011 | Total de Passos: 1 | \n",
      "- Id: 16 | Agente: 1 | Mapa: 5 | Status: p | Pts: -1001 | Total de Passos: 1 | \n",
      "- Id: 17 | Agente: 1 | Mapa: 5 | Status: p | Pts: -1004 | Total de Passos: 4 | \n",
      "- Id: 18 | Agente: 1 | Mapa: 5 | Status: p | Pts: -1005 | Total de Passos: 5 | \n",
      "- Id: 19 | Agente: 1 | Mapa: 5 | Status: p | Pts: -1008 | Total de Passos: 8 | \n",
      "- Id: 20 | Agente: 1 | Mapa: 5 | Status: p | Pts: -1003 | Total de Passos: 3 | \n",
      "- Id: 21 | Agente: 1 | Mapa: 10 | Status: p | Pts: -1002 | Total de Passos: 2 | \n",
      "- Id: 22 | Agente: 1 | Mapa: 7 | Status: p | Pts: -1004 | Total de Passos: 4 | \n",
      "- Id: 23 | Agente: 1 | Mapa: 7 | Status: p | Pts: -1010 | Total de Passos: 10 | \n",
      "- Id: 24 | Agente: 1 | Mapa: 7 | Status: p | Pts: -1009 | Total de Passos: 9 | \n",
      "- Id: 25 | Agente: 1 | Mapa: 7 | Status: v | Pts: 990 | Total de Passos: 10 | \n",
      "- Id: 26 | Agente: 1 | Mapa: 4 | Status: p | Pts: -1009 | Total de Passos: 9 | \n",
      "- Id: 27 | Agente: 1 | Mapa: 4 | Status: p | Pts: -1005 | Total de Passos: 5 | \n",
      "- Id: 28 | Agente: 1 | Mapa: 4 | Status: v | Pts: 998 | Total de Passos: 2 | \n",
      "- Id: 29 | Agente: 1 | Mapa: 4 | Status: p | Pts: -1018 | Total de Passos: 8 | \n",
      "- Id: 30 | Agente: 1 | Mapa: 4 | Status: p | Pts: -1014 | Total de Passos: 4 | \n",
      "- Id: 31 | Agente: 1 | Mapa: 4 | Status: p | Pts: -14 | Total de Passos: 4 | \n",
      "- Id: 32 | Agente: 1 | Mapa: 4 | Status: p | Pts: -13 | Total de Passos: 3 | \n",
      "- Id: 33 | Agente: 1 | Mapa: 4 | Status: p | Pts: -25 | Total de Passos: 15 | \n",
      "- Id: 34 | Agente: 1 | Mapa: 4 | Status: w | Pts: -1014 | Total de Passos: 4 | \n",
      "- Id: 35 | Agente: 1 | Mapa: 4 | Status: w | Pts: -1013 | Total de Passos: 3 | \n"
     ]
    }
   ],
   "source": [
    "jogos_db = Jogo.select()\n",
    "\n",
    "print(f'Total de Jogos: {len(jogos_db)}\\n\\n\\n')\n",
    "exibir(jogos_db)"
   ]
  }
 ],
 "metadata": {
  "kernelspec": {
   "display_name": ".venv",
   "language": "python",
   "name": "python3"
  },
  "language_info": {
   "codemirror_mode": {
    "name": "ipython",
    "version": 3
   },
   "file_extension": ".py",
   "mimetype": "text/x-python",
   "name": "python",
   "nbconvert_exporter": "python",
   "pygments_lexer": "ipython3",
   "version": "3.10.12"
  }
 },
 "nbformat": 4,
 "nbformat_minor": 2
}
